{
 "cells": [
  {
   "cell_type": "code",
   "execution_count": 3,
   "id": "36751eb6",
   "metadata": {},
   "outputs": [],
   "source": [
    "import numpy as np\n",
    "import matplotlib.pyplot as plt \n",
    "import gym "
   ]
  },
  {
   "cell_type": "code",
   "execution_count": 2,
   "id": "a410ba30",
   "metadata": {},
   "outputs": [
    {
     "name": "stdout",
     "output_type": "stream",
     "text": [
      "Collecting gym\n",
      "  Downloading gym-0.26.2.tar.gz (721 kB)\n",
      "  Installing build dependencies: started\n",
      "  Installing build dependencies: finished with status 'done'\n",
      "  Getting requirements to build wheel: started\n",
      "  Getting requirements to build wheel: finished with status 'done'\n",
      "    Preparing wheel metadata: started\n",
      "    Preparing wheel metadata: finished with status 'done'\n",
      "Requirement already satisfied: numpy>=1.18.0 in c:\\users\\tanma\\anaconda3\\lib\\site-packages (from gym) (1.21.5)\n",
      "Requirement already satisfied: cloudpickle>=1.2.0 in c:\\users\\tanma\\anaconda3\\lib\\site-packages (from gym) (2.0.0)\n",
      "Collecting gym-notices>=0.0.4\n",
      "  Downloading gym_notices-0.0.8-py3-none-any.whl (3.0 kB)\n",
      "Requirement already satisfied: importlib-metadata>=4.8.0 in c:\\users\\tanma\\anaconda3\\lib\\site-packages (from gym) (4.11.3)\n",
      "Requirement already satisfied: zipp>=0.5 in c:\\users\\tanma\\anaconda3\\lib\\site-packages (from importlib-metadata>=4.8.0->gym) (3.7.0)\n",
      "Building wheels for collected packages: gym\n",
      "  Building wheel for gym (PEP 517): started\n",
      "  Building wheel for gym (PEP 517): finished with status 'done'\n",
      "  Created wheel for gym: filename=gym-0.26.2-py3-none-any.whl size=827644 sha256=1e345c2f1daa01ba4c1d09a8f857c7a06b7c090bb799ad217f5b8d78f37ff71b\n",
      "  Stored in directory: c:\\users\\tanma\\appdata\\local\\pip\\cache\\wheels\\af\\2b\\30\\5e78b8b9599f2a2286a582b8da80594f654bf0e18d825a4405\n",
      "Successfully built gym\n",
      "Installing collected packages: gym-notices, gym\n",
      "Successfully installed gym-0.26.2 gym-notices-0.0.8\n"
     ]
    }
   ],
   "source": [
    "!pip install gym "
   ]
  },
  {
   "cell_type": "code",
   "execution_count": 17,
   "id": "a2f491b9",
   "metadata": {},
   "outputs": [],
   "source": [
    "env = gym.make(\"FrozenLake-v1\")"
   ]
  },
  {
   "cell_type": "code",
   "execution_count": 18,
   "id": "75be75e8",
   "metadata": {},
   "outputs": [],
   "source": [
    "number_of_games = 1000\n",
    "win_percentage = []\n",
    "score_of_game = []"
   ]
  },
  {
   "cell_type": "code",
   "execution_count": 21,
   "id": "5a5f5c5d",
   "metadata": {},
   "outputs": [
    {
     "ename": "ValueError",
     "evalue": "too many values to unpack (expected 4)",
     "output_type": "error",
     "traceback": [
      "\u001b[1;31m---------------------------------------------------------------------------\u001b[0m",
      "\u001b[1;31mValueError\u001b[0m                                Traceback (most recent call last)",
      "Input \u001b[1;32mIn [21]\u001b[0m, in \u001b[0;36m<cell line: 5>\u001b[1;34m()\u001b[0m\n\u001b[0;32m      9\u001b[0m \u001b[38;5;28;01mwhile\u001b[39;00m \u001b[38;5;129;01mnot\u001b[39;00m done:         \u001b[38;5;66;03m## play the episode\u001b[39;00m\n\u001b[0;32m     10\u001b[0m   action \u001b[38;5;241m=\u001b[39m env\u001b[38;5;241m.\u001b[39maction_space\u001b[38;5;241m.\u001b[39msample() \u001b[38;5;66;03m## TAKE RANDOM ACTION\u001b[39;00m\n\u001b[1;32m---> 11\u001b[0m   obs, reward, done, info \u001b[38;5;241m=\u001b[39m env\u001b[38;5;241m.\u001b[39mstep(action) \u001b[38;5;66;03m## set the new information\u001b[39;00m\n\u001b[0;32m     12\u001b[0m   score \u001b[38;5;241m+\u001b[39m\u001b[38;5;241m=\u001b[39m reward       \u001b[38;5;66;03m## keep track of the score for the episode\u001b[39;00m\n\u001b[0;32m     13\u001b[0m scores\u001b[38;5;241m.\u001b[39mappend(score)    \u001b[38;5;66;03m## at the end of every episode, append score for that epsiode to list of scores\u001b[39;00m\n",
      "\u001b[1;31mValueError\u001b[0m: too many values to unpack (expected 4)"
     ]
    }
   ],
   "source": [
    "n_games = 1000 ##number of games\n",
    "win_pct = []   ##empty list to keep track of win percentages\n",
    "scores = [] ##empty list to keep track of scores\n",
    "\n",
    "for i in range(n_games):  ## loop over the number of games\n",
    "  done = False            ## at the top of every episode reset the done flag\n",
    "  obs = env.reset()       ## reset the environment\n",
    "  score = 0               ## set score for the episode to zero\n",
    "  while not done:         ## play the episode\n",
    "    action = env.action_space.sample() ## TAKE RANDOM ACTION\n",
    "    obs, reward, done, info = env.step(action) ## set the new information\n",
    "    score += reward       ## keep track of the score for the episode\n",
    "  scores.append(score)    ## at the end of every episode, append score for that epsiode to list of scores\n",
    "\n",
    "  if i%10 == 0:           ## every 10 games we keep track of win percentage\n",
    "    average = np.mean(scores[-10:])\n",
    "    win_pct.append(average)\n",
    "plt.plot(win_pct)\n",
    "plt.show()"
   ]
  },
  {
   "cell_type": "code",
   "execution_count": null,
   "id": "51fd243c",
   "metadata": {},
   "outputs": [],
   "source": []
  }
 ],
 "metadata": {
  "kernelspec": {
   "display_name": "Python 3 (ipykernel)",
   "language": "python",
   "name": "python3"
  },
  "language_info": {
   "codemirror_mode": {
    "name": "ipython",
    "version": 3
   },
   "file_extension": ".py",
   "mimetype": "text/x-python",
   "name": "python",
   "nbconvert_exporter": "python",
   "pygments_lexer": "ipython3",
   "version": "3.9.12"
  }
 },
 "nbformat": 4,
 "nbformat_minor": 5
}
